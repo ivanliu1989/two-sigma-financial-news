{
  "cells": [
    {
      "metadata": {
        "_uuid": "8f2839f25d086af736a60e9eeb907d3b93b6e0e5",
        "_cell_guid": "b1076dfc-b9ad-4769-8c92-a6c4dae69d19",
        "trusted": true
      },
      "cell_type": "code",
      "source": "import numpy as np\nimport pandas as pd\nimport matplotlib.pyplot as plt\nimport seaborn as sns\n%matplotlib inline\n\nimport datetime\nimport lightgbm as lgb\nfrom scipy import stats\nfrom scipy.sparse import hstack, csr_matrix\nfrom sklearn.model_selection import train_test_split\nfrom wordcloud import WordCloud\nfrom collections import Counter\nfrom nltk.corpus import stopwords\nfrom nltk.util import ngrams\nfrom sklearn.feature_extraction.text import TfidfVectorizer\nfrom sklearn.preprocessing import StandardScaler\nstop = set(stopwords.words('english'))\n\n\nimport plotly.offline as py\npy.init_notebook_mode(connected=True)\nimport plotly.graph_objs as go\nimport plotly.tools as tls\n\nfrom xgboost import XGBClassifier\nfrom sklearn import model_selection\nfrom sklearn.metrics import accuracy_score",
      "execution_count": 1,
      "outputs": [
        {
          "output_type": "display_data",
          "data": {
            "text/html": "<script>requirejs.config({paths: { 'plotly': ['https://cdn.plot.ly/plotly-latest.min']},});if(!window.Plotly) {{require(['plotly'],function(plotly) {window.Plotly=plotly;});}}</script>",
            "text/vnd.plotly.v1+html": "<script>requirejs.config({paths: { 'plotly': ['https://cdn.plot.ly/plotly-latest.min']},});if(!window.Plotly) {{require(['plotly'],function(plotly) {window.Plotly=plotly;});}}</script>"
          },
          "metadata": {}
        }
      ]
    },
    {
      "metadata": {
        "_cell_guid": "79c7e3d0-c299-4dcb-8224-4455121ee9b0",
        "_uuid": "d629ff2d2480ee46fbb7e2d37f6b5fab8052498a",
        "trusted": true
      },
      "cell_type": "code",
      "source": "from kaggle.competitions import twosigmanews\nenv = twosigmanews.make_env()",
      "execution_count": 2,
      "outputs": [
        {
          "output_type": "stream",
          "text": "Loading the data... This could take a minute.\nDone!\n",
          "name": "stdout"
        }
      ]
    },
    {
      "metadata": {
        "trusted": true,
        "_uuid": "b1a5904949f06d284238bee6adcdd976c34fabe9"
      },
      "cell_type": "code",
      "source": "(market_train_df, news_train_df) = env.get_training_data()",
      "execution_count": 3,
      "outputs": []
    },
    {
      "metadata": {
        "_uuid": "799d34c2b6f1115024efeb7944962b5776c4f4fe"
      },
      "cell_type": "markdown",
      "source": "## Feature Engineering"
    },
    {
      "metadata": {
        "trusted": true,
        "_uuid": "dffda336676ec4f21b4b4a54ca6cfb8c2d4f70f7"
      },
      "cell_type": "code",
      "source": "#%%time\n# code mostly takes from this kernel: https://www.kaggle.com/ashishpatel26/bird-eye-view-of-two-sigma-xgb\n\ndef data_prep(market_df,news_df):\n    market_df['time'] = market_df.time.dt.date\n    market_df['returnsOpenPrevRaw1_to_volume'] = market_df['returnsOpenPrevRaw1'] / market_df['volume']\n    market_df['close_to_open'] = market_df['close'] / market_df['open']\n    market_df['volume_to_mean'] = market_df['volume'] / market_df['volume'].mean()\n    \n    news_df['time'] = news_df.time.dt.hour\n    news_df['sourceTimestamp']= news_df.sourceTimestamp.dt.hour\n    news_df['firstCreated'] = news_df.firstCreated.dt.date\n    news_df['assetCodesLen'] = news_df['assetCodes'].map(lambda x: len(eval(x)))\n    news_df['assetCodes'] = news_df['assetCodes'].map(lambda x: list(eval(x))[0])\n    news_df['headlineLen'] = news_df['headline'].apply(lambda x: len(x))\n    news_df['assetCodesLen'] = news_df['assetCodes'].apply(lambda x: len(x))\n    news_df['asset_sentiment_count'] = news_df.groupby(['assetName', 'sentimentClass'])['time'].transform('count')\n    news_df['asset_sentence_mean'] = news_df.groupby(['assetName', 'sentenceCount'])['time'].transform('mean')\n    lbl = {k: v for v, k in enumerate(news_df['headlineTag'].unique())}\n    news_df['headlineTagT'] = news_df['headlineTag'].map(lbl)\n    kcol = ['firstCreated', 'assetCodes']\n    news_df = news_df.groupby(kcol, as_index=False).mean()\n\n    market_df = pd.merge(market_df, news_df, how='left', left_on=['time', 'assetCode'], \n                            right_on=['firstCreated', 'assetCodes'])\n\n    lbl = {k: v for v, k in enumerate(market_df['assetCode'].unique())}\n    market_df['assetCodeT'] = market_df['assetCode'].map(lbl)\n    \n    market_df = market_df.dropna(axis=0)\n    \n    return market_df\n\nmarket_train = data_prep(market_train_df, news_train_df)\nprint(market_train.shape)\nup = market_train.returnsOpenNextMktres10 >= 0\n\nfcol = [c for c in market_train_df.columns if c not in ['assetCode', 'assetCodes', 'assetCodesLen', 'assetName', 'assetCodeT', 'volume_to_mean',\n                                             'firstCreated', 'headline', 'headlineTag', 'marketCommentary', 'provider', 'returnsOpenPrevRaw1_to_volume',\n                                             'returnsOpenNextMktres10', 'sourceId', 'subjects', 'time', 'time_x', 'universe','sourceTimestamp']]\n\nX = market_train[fcol].values\nup = up.values\nr = market_train.returnsOpenNextMktres10.values\n\n# Scaling of X values\nmins = np.min(X, axis=0)\nmaxs = np.max(X, axis=0)\nrng = maxs - mins\nX = 1 - ((maxs - X) / rng)",
      "execution_count": 4,
      "outputs": [
        {
          "output_type": "stream",
          "text": "(830438, 53)\n",
          "name": "stdout"
        }
      ]
    },
    {
      "metadata": {
        "_uuid": "3aed96fa31d195f87ce6c44233255cb8da91833a"
      },
      "cell_type": "markdown",
      "source": "## Modelling"
    },
    {
      "metadata": {
        "trusted": true,
        "_uuid": "625f3f6f8bbf96d0b7b18eaf794561188d734b11"
      },
      "cell_type": "code",
      "source": "X_train, X_test, up_train, up_test, r_train, r_test = model_selection.train_test_split(X, up, r, test_size=0.1, random_state=99)\n\nxgb_up = XGBClassifier(n_jobs=4,\n                       n_estimators=300,\n                       max_depth=3,\n                       eta=0.15)",
      "execution_count": 5,
      "outputs": []
    },
    {
      "metadata": {
        "trusted": true,
        "_uuid": "bd16230eec326c63e63650a85dcfa2c45e0bb7bf"
      },
      "cell_type": "code",
      "source": "%%time\nxgb_up.fit(X_train,up_train)\nprint(\"Accuracy Score: \",accuracy_score(xgb_up.predict(X_test),up_test))",
      "execution_count": 6,
      "outputs": [
        {
          "output_type": "stream",
          "text": "Accuracy Score:  0.548974037859448\nCPU times: user 6min 49s, sys: 264 ms, total: 6min 49s\nWall time: 1min 44s\n",
          "name": "stdout"
        }
      ]
    },
    {
      "metadata": {
        "_uuid": "d0891da08f9dcdc6ad3ff8383fd2d2a7791804be"
      },
      "cell_type": "markdown",
      "source": "## Feature Importance"
    },
    {
      "metadata": {
        "trusted": true,
        "_uuid": "508f26ccd431db722fa4236824e41837d5d199d9"
      },
      "cell_type": "code",
      "source": "def generate_color():\n    color = '#{:02x}{:02x}{:02x}'.format(*map(lambda x: np.random.randint(0, 255), range(3)))\n    return color\n\ndf = pd.DataFrame({'imp': xgb_up.feature_importances_, 'col':fcol})\ndf = df.sort_values(['imp','col'], ascending=[True, False])\ndata = [df]\nfor dd in data:  \n    colors = []\n    for i in range(len(dd)):\n         colors.append(generate_color())\n\n    data = [\n        go.Bar(\n        orientation = 'h',\n        x=dd.imp,\n        y=dd.col,\n        name='Features',\n        textfont=dict(size=20),\n            marker=dict(\n            color= colors,\n            line=dict(\n                color='#000000',\n                width=0.5\n            ),\n            opacity = 0.87\n        )\n    )\n    ]\n    layout= go.Layout(\n        title= 'Feature Importance of XGBOOST',\n        xaxis= dict(title='Columns', ticklen=5, zeroline=False, gridwidth=2),\n        yaxis=dict(title='Value Count', ticklen=5, gridwidth=2),\n        showlegend=True\n    )\n\n    py.iplot(dict(data=data,layout=layout), filename='horizontal-bar')",
      "execution_count": 7,
      "outputs": [
        {
          "output_type": "display_data",
          "data": {
            "application/vnd.plotly.v1+json": {
              "data": [
                {
                  "marker": {
                    "color": [
                      "#40799d",
                      "#68b4c4",
                      "#3e365b",
                      "#a25488",
                      "#24e70e",
                      "#8a194e",
                      "#a93700",
                      "#48af75",
                      "#d1a42b",
                      "#ae72e4",
                      "#0641e0",
                      "#1c6b7c"
                    ],
                    "line": {
                      "color": "#000000",
                      "width": 0.5
                    },
                    "opacity": 0.87
                  },
                  "name": "Features",
                  "orientation": "h",
                  "textfont": {
                    "size": 20
                  },
                  "x": [
                    0.06883180141448975,
                    0.07610276341438293,
                    0.07610276341438293,
                    0.0765874907374382,
                    0.07707222551107407,
                    0.07852641493082047,
                    0.08385846018791199,
                    0.08773630857467651,
                    0.08919049799442291,
                    0.09306834638118744,
                    0.09597673267126083,
                    0.09694619476795197
                  ],
                  "y": [
                    "open",
                    "returnsOpenPrevMktres1",
                    "close_to_open",
                    "returnsClosePrevMktres10",
                    "returnsClosePrevRaw1",
                    "volume",
                    "returnsClosePrevRaw10",
                    "returnsClosePrevMktres1",
                    "returnsOpenPrevRaw1",
                    "close",
                    "returnsOpenPrevRaw10",
                    "returnsOpenPrevMktres10"
                  ],
                  "type": "bar",
                  "uid": "947a871e-de14-11e8-a516-0242ac130002"
                }
              ],
              "layout": {
                "showlegend": true,
                "title": "Feature Importance of XGBOOST",
                "xaxis": {
                  "gridwidth": 2,
                  "ticklen": 5,
                  "title": "Columns",
                  "zeroline": false
                },
                "yaxis": {
                  "gridwidth": 2,
                  "ticklen": 5,
                  "title": "Value Count"
                }
              }
            },
            "text/html": "<div id=\"332ccf20-f6f1-4341-8239-cbc09c6bdab4\" style=\"height: 525px; width: 100%;\" class=\"plotly-graph-div\"></div><script type=\"text/javascript\">require([\"plotly\"], function(Plotly) { window.PLOTLYENV=window.PLOTLYENV || {};window.PLOTLYENV.BASE_URL=\"https://plot.ly\";Plotly.newPlot(\"332ccf20-f6f1-4341-8239-cbc09c6bdab4\", [{\"marker\": {\"color\": [\"#40799d\", \"#68b4c4\", \"#3e365b\", \"#a25488\", \"#24e70e\", \"#8a194e\", \"#a93700\", \"#48af75\", \"#d1a42b\", \"#ae72e4\", \"#0641e0\", \"#1c6b7c\"], \"line\": {\"color\": \"#000000\", \"width\": 0.5}, \"opacity\": 0.87}, \"name\": \"Features\", \"orientation\": \"h\", \"textfont\": {\"size\": 20}, \"x\": [0.06883180141448975, 0.07610276341438293, 0.07610276341438293, 0.0765874907374382, 0.07707222551107407, 0.07852641493082047, 0.08385846018791199, 0.08773630857467651, 0.08919049799442291, 0.09306834638118744, 0.09597673267126083, 0.09694619476795197], \"y\": [\"open\", \"returnsOpenPrevMktres1\", \"close_to_open\", \"returnsClosePrevMktres10\", \"returnsClosePrevRaw1\", \"volume\", \"returnsClosePrevRaw10\", \"returnsClosePrevMktres1\", \"returnsOpenPrevRaw1\", \"close\", \"returnsOpenPrevRaw10\", \"returnsOpenPrevMktres10\"], \"type\": \"bar\", \"uid\": \"947d834c-de14-11e8-a516-0242ac130002\"}], {\"showlegend\": true, \"title\": \"Feature Importance of XGBOOST\", \"xaxis\": {\"gridwidth\": 2, \"ticklen\": 5, \"title\": \"Columns\", \"zeroline\": false}, \"yaxis\": {\"gridwidth\": 2, \"ticklen\": 5, \"title\": \"Value Count\"}}, {\"showLink\": true, \"linkText\": \"Export to plot.ly\"})});</script>",
            "text/vnd.plotly.v1+html": "<div id=\"332ccf20-f6f1-4341-8239-cbc09c6bdab4\" style=\"height: 525px; width: 100%;\" class=\"plotly-graph-div\"></div><script type=\"text/javascript\">require([\"plotly\"], function(Plotly) { window.PLOTLYENV=window.PLOTLYENV || {};window.PLOTLYENV.BASE_URL=\"https://plot.ly\";Plotly.newPlot(\"332ccf20-f6f1-4341-8239-cbc09c6bdab4\", [{\"marker\": {\"color\": [\"#40799d\", \"#68b4c4\", \"#3e365b\", \"#a25488\", \"#24e70e\", \"#8a194e\", \"#a93700\", \"#48af75\", \"#d1a42b\", \"#ae72e4\", \"#0641e0\", \"#1c6b7c\"], \"line\": {\"color\": \"#000000\", \"width\": 0.5}, \"opacity\": 0.87}, \"name\": \"Features\", \"orientation\": \"h\", \"textfont\": {\"size\": 20}, \"x\": [0.06883180141448975, 0.07610276341438293, 0.07610276341438293, 0.0765874907374382, 0.07707222551107407, 0.07852641493082047, 0.08385846018791199, 0.08773630857467651, 0.08919049799442291, 0.09306834638118744, 0.09597673267126083, 0.09694619476795197], \"y\": [\"open\", \"returnsOpenPrevMktres1\", \"close_to_open\", \"returnsClosePrevMktres10\", \"returnsClosePrevRaw1\", \"volume\", \"returnsClosePrevRaw10\", \"returnsClosePrevMktres1\", \"returnsOpenPrevRaw1\", \"close\", \"returnsOpenPrevRaw10\", \"returnsOpenPrevMktres10\"], \"type\": \"bar\", \"uid\": \"947d834c-de14-11e8-a516-0242ac130002\"}], {\"showlegend\": true, \"title\": \"Feature Importance of XGBOOST\", \"xaxis\": {\"gridwidth\": 2, \"ticklen\": 5, \"title\": \"Columns\", \"zeroline\": false}, \"yaxis\": {\"gridwidth\": 2, \"ticklen\": 5, \"title\": \"Value Count\"}}, {\"showLink\": true, \"linkText\": \"Export to plot.ly\"})});</script>"
          },
          "metadata": {}
        }
      ]
    },
    {
      "metadata": {
        "_uuid": "03348f603513dec51e7d87977299d0de55cd5cf9"
      },
      "cell_type": "markdown",
      "source": "## Predictions"
    },
    {
      "metadata": {
        "trusted": true,
        "_uuid": "ecae6928fec836589d1ddc64a92682dde1f6cc3b"
      },
      "cell_type": "code",
      "source": "days = env.get_prediction_days()\nimport time\n\nn_days = 0\nprep_time = 0\nprediction_time = 0\npackaging_time = 0\nfor (market_obs_df, news_obs_df, predictions_template_df) in days:\n    n_days +=1\n    if n_days % 50 == 0:\n        print(n_days,end=' ')\n    \n    t = time.time()\n    market_obs_df = data_prep(market_obs_df, news_obs_df)\n    market_obs_df = market_obs_df[market_obs_df.assetCode.isin(predictions_template_df.assetCode)]\n    X_live = market_obs_df[fcol].values\n    X_live = 1 - ((maxs - X_live) / rng)\n    prep_time += time.time() - t\n    \n    t = time.time()\n    lp = xgb_up.predict_proba(X_live)\n    prediction_time += time.time() -t\n    \n    t = time.time()\n    confidence = 2* lp[:,1] -1\n    preds = pd.DataFrame({'assetCode':market_obs_df['assetCode'],'confidence':confidence})\n    predictions_template_df = predictions_template_df.merge(preds,how='left').drop('confidenceValue',axis=1).fillna(0).rename(columns={'confidence':'confidenceValue'})\n    env.predict(predictions_template_df)\n    packaging_time += time.time() - t\n    \n# env.write_submission_file()",
      "execution_count": null,
      "outputs": []
    },
    {
      "metadata": {
        "trusted": true,
        "_uuid": "9b8604fcc0f7df7081b52caa573a4770fc68dd5c"
      },
      "cell_type": "code",
      "source": "",
      "execution_count": null,
      "outputs": []
    }
  ],
  "metadata": {
    "kernelspec": {
      "display_name": "Python 3",
      "language": "python",
      "name": "python3"
    },
    "language_info": {
      "name": "python",
      "version": "3.6.6",
      "mimetype": "text/x-python",
      "codemirror_mode": {
        "name": "ipython",
        "version": 3
      },
      "pygments_lexer": "ipython3",
      "nbconvert_exporter": "python",
      "file_extension": ".py"
    }
  },
  "nbformat": 4,
  "nbformat_minor": 1
}