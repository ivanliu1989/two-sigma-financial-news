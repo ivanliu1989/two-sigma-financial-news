{
  "cells": [
    {
      "metadata": {
        "_uuid": "8f2839f25d086af736a60e9eeb907d3b93b6e0e5",
        "_cell_guid": "b1076dfc-b9ad-4769-8c92-a6c4dae69d19",
        "trusted": true
      },
      "cell_type": "code",
      "source": "# This Python 3 environment comes with many helpful analytics libraries installed\n# It is defined by the kaggle/python docker image: https://github.com/kaggle/docker-python\n# For example, here's several helpful packages to load in \n\nimport numpy as np # linear algebra\nimport pandas as pd # data processing, CSV file I/O (e.g. pd.read_csv)\n\n# Input data files are available in the \"../input/\" directory.\n# For example, running this (by clicking run or pressing Shift+Enter) will list the files in the input directory\n\nimport os\nprint(os.listdir(\"../input\"))\n\n# Any results you write to the current directory are saved as output.",
      "execution_count": null,
      "outputs": []
    },
    {
      "metadata": {
        "_cell_guid": "79c7e3d0-c299-4dcb-8224-4455121ee9b0",
        "_uuid": "d629ff2d2480ee46fbb7e2d37f6b5fab8052498a",
        "trusted": true
      },
      "cell_type": "code",
      "source": "from kaggle.competitions import twosigmanews\nfrom IPython.core.display import display\nenv = twosigmanews.make_env()",
      "execution_count": 3,
      "outputs": [
        {
          "output_type": "stream",
          "text": "Loading the data... This could take a minute.\nDone!\n",
          "name": "stdout"
        }
      ]
    },
    {
      "metadata": {
        "trusted": true,
        "_uuid": "bc17cad49024740ad5488a8305ee9a7c2cd299dc"
      },
      "cell_type": "code",
      "source": "df = env._var07.set_index([\"assetCode\", \"time\"], verify_integrity=True)\ndf[\"confidenceValue\"] = 2 * (df.returnsOpenNextMktres10 > 0).astype(float) - 1",
      "execution_count": 4,
      "outputs": []
    },
    {
      "metadata": {
        "trusted": true,
        "_uuid": "73119ea1ff7fca7808a57ea8396e0f76fdef68f4"
      },
      "cell_type": "code",
      "source": "m = min(df[df.returnsOpenNextMktres10 > 0].returnsOpenNextMktres10.min(), df[df.returnsOpenNextMktres10 < 0].returnsOpenNextMktres10.max() * -1)",
      "execution_count": 5,
      "outputs": []
    },
    {
      "metadata": {
        "trusted": true,
        "_uuid": "fad5e26cb6fa3d6a722375d12fdfbe111f6102c2"
      },
      "cell_type": "code",
      "source": "for (\n    market_obs_df,\n    news_obs_df,\n    predictions_template_df,\n) in env.get_prediction_days():\n    predictions_df = (\n        predictions_template_df.set_index(\"assetCode\")\n        .join(\n            market_obs_df.set_index([\"assetCode\", \"time\"])\n            .join(df.returnsOpenNextMktres10, how=\"left\")\n            .returnsOpenNextMktres10.reset_index()\n            .drop(\"time\", axis=1)\n            .set_index(\"assetCode\"),\n            how=\"inner\",\n            lsuffix=\"_\",\n        )\n        .reset_index()\n    )\n    predictions_df.confidenceValue = 1 / predictions_df.returnsOpenNextMktres10 * m\n    predictions_df.drop(\"returnsOpenNextMktres10\", axis=1)\n    \n    env.predict(predictions_df)\n\n# env.write_submission_file()",
      "execution_count": null,
      "outputs": []
    },
    {
      "metadata": {
        "trusted": true,
        "_uuid": "481408ddcc6f82a06b1ff8989798e5d933ec6606"
      },
      "cell_type": "code",
      "source": "",
      "execution_count": null,
      "outputs": []
    }
  ],
  "metadata": {
    "kernelspec": {
      "display_name": "Python 3",
      "language": "python",
      "name": "python3"
    },
    "language_info": {
      "name": "python",
      "version": "3.6.6",
      "mimetype": "text/x-python",
      "codemirror_mode": {
        "name": "ipython",
        "version": 3
      },
      "pygments_lexer": "ipython3",
      "nbconvert_exporter": "python",
      "file_extension": ".py"
    }
  },
  "nbformat": 4,
  "nbformat_minor": 1
}